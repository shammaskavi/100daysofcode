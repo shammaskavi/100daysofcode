{
 "cells": [
  {
   "attachments": {},
   "cell_type": "markdown",
   "metadata": {},
   "source": [
    "Complete ADHD Moment. How did I end up here in a python notebook !!!\n",
    "\n",
    "## I am impressed I still remember markdown!\n",
    "\n",
    "### Dum text \n",
    "- [@shammaskavi](https://www.github.com/shammaskavi)\n",
    "\n"
   ]
  }
 ],
 "metadata": {
  "language_info": {
   "name": "python"
  },
  "orig_nbformat": 4
 },
 "nbformat": 4,
 "nbformat_minor": 2
}
